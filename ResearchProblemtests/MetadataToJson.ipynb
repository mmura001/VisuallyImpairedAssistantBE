{
 "cells": [
  {
   "cell_type": "code",
   "execution_count": 1,
   "metadata": {},
   "outputs": [
    {
     "name": "stdout",
     "output_type": "stream",
     "text": [
      "Data successfully written to extracted_content.json\n"
     ]
    }
   ],
   "source": [
    "import requests\n",
    "from bs4 import BeautifulSoup\n",
    "import json\n",
    "\n",
    "url = 'https://wayback-api.archive.org/'\n",
    "response = requests.get(url)\n",
    "\n",
    "if response.status_code == 200:\n",
    "    html_content = response.text\n",
    "else:\n",
    "    print('Failed to retrieve webpage:', response.status_code)\n",
    "\n",
    "soup = BeautifulSoup(html_content, 'html.parser')\n",
    "\n",
    "# Extract all links from the webpage along with their text\n",
    "links = [{\"url\": link.get('href'), \"text\": link.text.strip()} for link in soup.find_all('a') if link.get('href')]\n",
    "\n",
    "# Extract input options available on the webpage\n",
    "input_options = []\n",
    "for input_tag in soup.find_all('input'):\n",
    "    input_option = {}\n",
    "    input_option['type'] = input_tag.get('type')\n",
    "    input_option['name'] = input_tag.get('name')\n",
    "    input_option['value'] = input_tag.get('value')\n",
    "    input_options.append(input_option)\n",
    "\n",
    "# Define the filename for the JSON file\n",
    "json_filename = 'extracted_content.json'\n",
    "\n",
    "# Create a dictionary to store the extracted content\n",
    "extracted_content = {\n",
    "    \"links\": links,\n",
    "    \"input_options\": input_options\n",
    "}\n",
    "\n",
    "# Write the extracted data to the JSON file\n",
    "with open(json_filename, 'w') as json_file:\n",
    "    json.dump(extracted_content, json_file, indent=4)  # Indent for better readability\n",
    "\n",
    "print(\"Data successfully written to\", json_filename)"
   ]
  }
 ],
 "metadata": {
  "kernelspec": {
   "display_name": "devenv",
   "language": "python",
   "name": "python3"
  },
  "language_info": {
   "codemirror_mode": {
    "name": "ipython",
    "version": 3
   },
   "file_extension": ".py",
   "mimetype": "text/x-python",
   "name": "python",
   "nbconvert_exporter": "python",
   "pygments_lexer": "ipython3",
   "version": "3.11.6"
  }
 },
 "nbformat": 4,
 "nbformat_minor": 2
}
